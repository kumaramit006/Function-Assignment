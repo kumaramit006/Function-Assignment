{
 "cells": [
  {
   "cell_type": "code",
   "execution_count": 1,
   "id": "729de8bf",
   "metadata": {},
   "outputs": [
    {
     "name": "stdout",
     "output_type": "stream",
     "text": [
      "4\n"
     ]
    }
   ],
   "source": [
    "#find the max number\n",
    "def max(x,y,z):\n",
    "    if x>y and x>z:\n",
    "        print(x)\n",
    "    elif y>x and y>z:\n",
    "        print(y)\n",
    "    elif z>x and z>y:\n",
    "        print(z)\n",
    "max(2,3,4)"
   ]
  },
  {
   "cell_type": "code",
   "execution_count": 2,
   "id": "72b2488c",
   "metadata": {},
   "outputs": [
    {
     "name": "stdout",
     "output_type": "stream",
     "text": [
      "2\n"
     ]
    }
   ],
   "source": [
    "#find the minimum number\n",
    "def min(x,y,z):\n",
    "    if x<y and x<z:\n",
    "        print(x)\n",
    "    elif y<x and y<z:\n",
    "        print(y)\n",
    "    elif z<x and z<y:\n",
    "        print(z)\n",
    "min(2,3,4)"
   ]
  },
  {
   "cell_type": "code",
   "execution_count": 3,
   "id": "bf9a65a6",
   "metadata": {},
   "outputs": [
    {
     "name": "stdout",
     "output_type": "stream",
     "text": [
      "number in range\n"
     ]
    }
   ],
   "source": [
    "#---finding range\n",
    "def bet(x,y):\n",
    "    if x>=100 and y<=300:\n",
    "        print('number in range')\n",
    "    else:\n",
    "        print('number in not range')\n",
    "\n",
    "bet(101,234) "
   ]
  },
  {
   "cell_type": "code",
   "execution_count": 4,
   "id": "8e2aab96",
   "metadata": {},
   "outputs": [
    {
     "name": "stdout",
     "output_type": "stream",
     "text": [
      "Total upper case is : 12\n",
      "Total lower case is : 27\n"
     ]
    }
   ],
   "source": [
    "# counting Uppercase and Lowercase\n",
    "def s(str):\n",
    "    x=0\n",
    "    y=0\n",
    "    for a in str:\n",
    "        if a.isupper():\n",
    "            x=x+1\n",
    "        else:\n",
    "            y=y+1\n",
    "    print('Total upper case is :',x)\n",
    "    print('Total lower case is :',y)\n",
    "s('SaxOn Sir iS greAt meNTor iN InNoMatiCs')\n",
    "    "
   ]
  },
  {
   "cell_type": "code",
   "execution_count": 6,
   "id": "b1c0d54c",
   "metadata": {},
   "outputs": [
    {
     "name": "stdout",
     "output_type": "stream",
     "text": [
      "is a prime number 9\n"
     ]
    }
   ],
   "source": [
    "#prime number\n",
    "def num(a):\n",
    "    for i in range(1,a-1):\n",
    "        if a%1==0:\n",
    "            print('is a prime number',a)\n",
    "            break\n",
    "        else:\n",
    "            \n",
    "            print('is a not prime number',a)\n",
    "num(9)"
   ]
  },
  {
   "cell_type": "code",
   "execution_count": 7,
   "id": "34adc036",
   "metadata": {},
   "outputs": [
    {
     "name": "stdout",
     "output_type": "stream",
     "text": [
      "String is pallindrome\n"
     ]
    }
   ],
   "source": [
    "#String is pallindrome\n",
    "def reverse(str1):\n",
    "    rev=str1[::-1]\n",
    "    if str1==rev:\n",
    "        print('String is pallindrome')\n",
    "    else:\n",
    "        print('String is not pallindrome')\n",
    "reverse('MOM')"
   ]
  },
  {
   "cell_type": "code",
   "execution_count": null,
   "id": "b037bde2",
   "metadata": {},
   "outputs": [],
   "source": []
  }
 ],
 "metadata": {
  "kernelspec": {
   "display_name": "Python 3 (ipykernel)",
   "language": "python",
   "name": "python3"
  },
  "language_info": {
   "codemirror_mode": {
    "name": "ipython",
    "version": 3
   },
   "file_extension": ".py",
   "mimetype": "text/x-python",
   "name": "python",
   "nbconvert_exporter": "python",
   "pygments_lexer": "ipython3",
   "version": "3.9.7"
  }
 },
 "nbformat": 4,
 "nbformat_minor": 5
}
